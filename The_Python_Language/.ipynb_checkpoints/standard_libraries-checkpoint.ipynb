{
 "cells": [
  {
   "cell_type": "markdown",
   "metadata": {},
   "source": [
    "# os module: operating system functionality"
   ]
  },
  {
   "cell_type": "code",
   "execution_count": 3,
   "metadata": {
    "collapsed": false
   },
   "outputs": [
    {
     "data": {
      "text/plain": [
       "'C:\\\\Users\\\\Sourav\\\\For_GitHub_Repo\\\\DataScience_Python\\\\The_Python_Language'"
      ]
     },
     "execution_count": 3,
     "metadata": {},
     "output_type": "execute_result"
    }
   ],
   "source": [
    "import os\n",
    "\n",
    "os.getcwd()"
   ]
  },
  {
   "cell_type": "code",
   "execution_count": 4,
   "metadata": {
    "collapsed": false
   },
   "outputs": [
    {
     "data": {
      "text/plain": [
       "['.ipynb_checkpoints',\n",
       " 'basics_containers_operators.ipynb',\n",
       " 'control_flow.ipynb',\n",
       " 'functions.ipynb',\n",
       " 'Input_and_Output.ipynb',\n",
       " 'standard_libraries.ipynb',\n",
       " 'workfile']"
      ]
     },
     "execution_count": 4,
     "metadata": {},
     "output_type": "execute_result"
    }
   ],
   "source": [
    "os.listdir(os.curdir)"
   ]
  },
  {
   "cell_type": "markdown",
   "metadata": {},
   "source": [
    "### Make a directory"
   ]
  },
  {
   "cell_type": "code",
   "execution_count": 6,
   "metadata": {
    "collapsed": true
   },
   "outputs": [],
   "source": [
    "os.mkdir('junkdir')"
   ]
  },
  {
   "cell_type": "code",
   "execution_count": 7,
   "metadata": {
    "collapsed": false
   },
   "outputs": [
    {
     "data": {
      "text/plain": [
       "True"
      ]
     },
     "execution_count": 7,
     "metadata": {},
     "output_type": "execute_result"
    }
   ],
   "source": [
    "'junkdir' in os.listdir(os.curdir)"
   ]
  },
  {
   "cell_type": "code",
   "execution_count": 8,
   "metadata": {
    "collapsed": false
   },
   "outputs": [
    {
     "data": {
      "text/plain": [
       "['.ipynb_checkpoints',\n",
       " 'basics_containers_operators.ipynb',\n",
       " 'control_flow.ipynb',\n",
       " 'functions.ipynb',\n",
       " 'Input_and_Output.ipynb',\n",
       " 'junkdir',\n",
       " 'standard_libraries.ipynb',\n",
       " 'workfile']"
      ]
     },
     "execution_count": 8,
     "metadata": {},
     "output_type": "execute_result"
    }
   ],
   "source": [
    "os.listdir(os.curdir)"
   ]
  },
  {
   "cell_type": "markdown",
   "metadata": {},
   "source": [
    "### Rename the directory"
   ]
  },
  {
   "cell_type": "code",
   "execution_count": 9,
   "metadata": {
    "collapsed": true
   },
   "outputs": [],
   "source": [
    "os.rename('junkdir', 'foodir')"
   ]
  },
  {
   "cell_type": "code",
   "execution_count": 10,
   "metadata": {
    "collapsed": false
   },
   "outputs": [
    {
     "data": {
      "text/plain": [
       "False"
      ]
     },
     "execution_count": 10,
     "metadata": {},
     "output_type": "execute_result"
    }
   ],
   "source": [
    "'junkdir' in os.listdir(os.curdir)"
   ]
  },
  {
   "cell_type": "code",
   "execution_count": 11,
   "metadata": {
    "collapsed": false
   },
   "outputs": [
    {
     "data": {
      "text/plain": [
       "True"
      ]
     },
     "execution_count": 11,
     "metadata": {},
     "output_type": "execute_result"
    }
   ],
   "source": [
    "'foodir' in os.listdir(os.curdir)"
   ]
  },
  {
   "cell_type": "markdown",
   "metadata": {},
   "source": [
    "### remove the directory"
   ]
  },
  {
   "cell_type": "code",
   "execution_count": 12,
   "metadata": {
    "collapsed": true
   },
   "outputs": [],
   "source": [
    "os.rmdir('foodir')"
   ]
  },
  {
   "cell_type": "code",
   "execution_count": 13,
   "metadata": {
    "collapsed": false
   },
   "outputs": [
    {
     "data": {
      "text/plain": [
       "False"
      ]
     },
     "execution_count": 13,
     "metadata": {},
     "output_type": "execute_result"
    }
   ],
   "source": [
    "'foodir' in os.listdir(os.curdir)"
   ]
  },
  {
   "cell_type": "code",
   "execution_count": 14,
   "metadata": {
    "collapsed": false
   },
   "outputs": [
    {
     "data": {
      "text/plain": [
       "['.ipynb_checkpoints',\n",
       " 'basics_containers_operators.ipynb',\n",
       " 'control_flow.ipynb',\n",
       " 'functions.ipynb',\n",
       " 'Input_and_Output.ipynb',\n",
       " 'standard_libraries.ipynb',\n",
       " 'workfile']"
      ]
     },
     "execution_count": 14,
     "metadata": {},
     "output_type": "execute_result"
    }
   ],
   "source": [
    "os.listdir(os.curdir)"
   ]
  },
  {
   "cell_type": "markdown",
   "metadata": {},
   "source": [
    "### Delete a file"
   ]
  },
  {
   "cell_type": "code",
   "execution_count": 19,
   "metadata": {
    "collapsed": false
   },
   "outputs": [],
   "source": [
    "fp = open('junk.txt', 'w')\n",
    "\n",
    "fp.close()"
   ]
  },
  {
   "cell_type": "code",
   "execution_count": 20,
   "metadata": {
    "collapsed": false
   },
   "outputs": [
    {
     "data": {
      "text/plain": [
       "True"
      ]
     },
     "execution_count": 20,
     "metadata": {},
     "output_type": "execute_result"
    }
   ],
   "source": [
    "'junk.txt' in os.listdir(os.curdir)"
   ]
  },
  {
   "cell_type": "code",
   "execution_count": 21,
   "metadata": {
    "collapsed": false
   },
   "outputs": [],
   "source": [
    "os.remove('junk.txt')"
   ]
  },
  {
   "cell_type": "code",
   "execution_count": 22,
   "metadata": {
    "collapsed": false
   },
   "outputs": [
    {
     "data": {
      "text/plain": [
       "False"
      ]
     },
     "execution_count": 22,
     "metadata": {},
     "output_type": "execute_result"
    }
   ],
   "source": [
    "'junk.txt' in os.listdir(os.curdir)"
   ]
  },
  {
   "cell_type": "markdown",
   "metadata": {},
   "source": [
    "## os.path: path manipulations\n",
    "os.path provides common operations on pathnames."
   ]
  },
  {
   "cell_type": "code",
   "execution_count": 23,
   "metadata": {
    "collapsed": true
   },
   "outputs": [],
   "source": [
    "fp = open('junk.txt', 'w')\n",
    "\n",
    "fp.close()"
   ]
  },
  {
   "cell_type": "code",
   "execution_count": 24,
   "metadata": {
    "collapsed": true
   },
   "outputs": [],
   "source": [
    "a = os.path.abspath('junk.txt')"
   ]
  },
  {
   "cell_type": "code",
   "execution_count": 25,
   "metadata": {
    "collapsed": false
   },
   "outputs": [
    {
     "data": {
      "text/plain": [
       "'C:\\\\Users\\\\Sourav\\\\For_GitHub_Repo\\\\DataScience_Python\\\\The_Python_Language\\\\junk.txt'"
      ]
     },
     "execution_count": 25,
     "metadata": {},
     "output_type": "execute_result"
    }
   ],
   "source": [
    "a"
   ]
  },
  {
   "cell_type": "code",
   "execution_count": 26,
   "metadata": {
    "collapsed": false
   },
   "outputs": [
    {
     "data": {
      "text/plain": [
       "('C:\\\\Users\\\\Sourav\\\\For_GitHub_Repo\\\\DataScience_Python\\\\The_Python_Language',\n",
       " 'junk.txt')"
      ]
     },
     "execution_count": 26,
     "metadata": {},
     "output_type": "execute_result"
    }
   ],
   "source": [
    "os.path.split(a)"
   ]
  },
  {
   "cell_type": "code",
   "execution_count": 27,
   "metadata": {
    "collapsed": false
   },
   "outputs": [
    {
     "data": {
      "text/plain": [
       "'C:\\\\Users\\\\Sourav\\\\For_GitHub_Repo\\\\DataScience_Python\\\\The_Python_Language'"
      ]
     },
     "execution_count": 27,
     "metadata": {},
     "output_type": "execute_result"
    }
   ],
   "source": [
    "os.path.dirname(a)"
   ]
  },
  {
   "cell_type": "code",
   "execution_count": 28,
   "metadata": {
    "collapsed": false
   },
   "outputs": [
    {
     "data": {
      "text/plain": [
       "'junk.txt'"
      ]
     },
     "execution_count": 28,
     "metadata": {},
     "output_type": "execute_result"
    }
   ],
   "source": [
    "os.path.basename(a)"
   ]
  },
  {
   "cell_type": "code",
   "execution_count": 29,
   "metadata": {
    "collapsed": false
   },
   "outputs": [
    {
     "data": {
      "text/plain": [
       "('junk', '.txt')"
      ]
     },
     "execution_count": 29,
     "metadata": {},
     "output_type": "execute_result"
    }
   ],
   "source": [
    "os.path.splitext(os.path.basename(a))"
   ]
  },
  {
   "cell_type": "code",
   "execution_count": 30,
   "metadata": {
    "collapsed": false
   },
   "outputs": [
    {
     "data": {
      "text/plain": [
       "True"
      ]
     },
     "execution_count": 30,
     "metadata": {},
     "output_type": "execute_result"
    }
   ],
   "source": [
    "os.path.exists('junk.txt')"
   ]
  },
  {
   "cell_type": "code",
   "execution_count": 31,
   "metadata": {
    "collapsed": false
   },
   "outputs": [
    {
     "data": {
      "text/plain": [
       "True"
      ]
     },
     "execution_count": 31,
     "metadata": {},
     "output_type": "execute_result"
    }
   ],
   "source": [
    "os.path.isfile('junk.txt')"
   ]
  },
  {
   "cell_type": "code",
   "execution_count": 32,
   "metadata": {
    "collapsed": false
   },
   "outputs": [
    {
     "data": {
      "text/plain": [
       "False"
      ]
     },
     "execution_count": 32,
     "metadata": {},
     "output_type": "execute_result"
    }
   ],
   "source": [
    "os.path.isdir('junk.txt')"
   ]
  },
  {
   "cell_type": "code",
   "execution_count": 33,
   "metadata": {
    "collapsed": false
   },
   "outputs": [
    {
     "data": {
      "text/plain": [
       "'C:\\\\Users\\\\Sourav/local'"
      ]
     },
     "execution_count": 33,
     "metadata": {},
     "output_type": "execute_result"
    }
   ],
   "source": [
    "os.path.expanduser('~/local')"
   ]
  },
  {
   "cell_type": "code",
   "execution_count": 34,
   "metadata": {
    "collapsed": false
   },
   "outputs": [
    {
     "data": {
      "text/plain": [
       "'C:\\\\Users\\\\Sourav\\\\local\\\\bin'"
      ]
     },
     "execution_count": 34,
     "metadata": {},
     "output_type": "execute_result"
    }
   ],
   "source": [
    "os.path.join(os.path.expanduser('~'), 'local', 'bin')"
   ]
  },
  {
   "cell_type": "markdown",
   "metadata": {},
   "source": [
    "## Running an external command"
   ]
  },
  {
   "cell_type": "code",
   "execution_count": 41,
   "metadata": {
    "collapsed": false
   },
   "outputs": [
    {
     "data": {
      "text/plain": [
       "1"
      ]
     },
     "execution_count": 41,
     "metadata": {},
     "output_type": "execute_result"
    }
   ],
   "source": [
    "os.system('ls')"
   ]
  },
  {
   "cell_type": "markdown",
   "metadata": {},
   "source": [
    "## Walking a directory\n",
    "os.path.walk generates a list of filenames in a directory tree."
   ]
  },
  {
   "cell_type": "code",
   "execution_count": 44,
   "metadata": {
    "collapsed": false
   },
   "outputs": [
    {
     "name": "stdout",
     "output_type": "stream",
     "text": [
      "C:\\Users\\Sourav\\For_GitHub_Repo\\DataScience_Python\\The_Python_Language\\basics_containers_operators.ipynb\n",
      "C:\\Users\\Sourav\\For_GitHub_Repo\\DataScience_Python\\The_Python_Language\\control_flow.ipynb\n",
      "C:\\Users\\Sourav\\For_GitHub_Repo\\DataScience_Python\\The_Python_Language\\functions.ipynb\n",
      "C:\\Users\\Sourav\\For_GitHub_Repo\\DataScience_Python\\The_Python_Language\\Input_and_Output.ipynb\n",
      "C:\\Users\\Sourav\\For_GitHub_Repo\\DataScience_Python\\The_Python_Language\\junk.txt\n",
      "C:\\Users\\Sourav\\For_GitHub_Repo\\DataScience_Python\\The_Python_Language\\standard_libraries.ipynb\n",
      "C:\\Users\\Sourav\\For_GitHub_Repo\\DataScience_Python\\The_Python_Language\\workfile\n",
      "C:\\Users\\Sourav\\For_GitHub_Repo\\DataScience_Python\\The_Python_Language\\basics_containers_operators-checkpoint.ipynb\n",
      "C:\\Users\\Sourav\\For_GitHub_Repo\\DataScience_Python\\The_Python_Language\\control_flow-checkpoint.ipynb\n",
      "C:\\Users\\Sourav\\For_GitHub_Repo\\DataScience_Python\\The_Python_Language\\functions-checkpoint.ipynb\n",
      "C:\\Users\\Sourav\\For_GitHub_Repo\\DataScience_Python\\The_Python_Language\\Input_and_Output-checkpoint.ipynb\n",
      "C:\\Users\\Sourav\\For_GitHub_Repo\\DataScience_Python\\The_Python_Language\\standard_libraries-checkpoint.ipynb\n"
     ]
    }
   ],
   "source": [
    "for dirpath, dirname, filenames in os.walk(os.curdir):\n",
    "    for fp in filenames:\n",
    "        print(os.path.abspath(fp))\n",
    "        "
   ]
  },
  {
   "cell_type": "markdown",
   "metadata": {},
   "source": [
    "## Environment variables:"
   ]
  },
  {
   "cell_type": "code",
   "execution_count": 45,
   "metadata": {
    "collapsed": false
   },
   "outputs": [
    {
     "data": {
      "text/plain": [
       "KeysView(environ({'ONEDRIVE': 'C:\\\\Users\\\\Sourav\\\\OneDrive', 'PROCESSOR_REVISION': '3c03', 'NUMBER_OF_PROCESSORS': '4', 'JPY_PARENT_PID': '1840', 'USERDOMAIN_ROAMINGPROFILE': 'SRGRACE', 'HOMEPATH': '\\\\Users\\\\Sourav', 'CLICOLOR': '1', 'MOZ_PLUGIN_PATH': 'C:\\\\Program Files (x86)\\\\Foxit Software\\\\Foxit Reader\\\\plugins\\\\', 'PROMPT': '$P$G', 'TEMP': 'C:\\\\Users\\\\Sourav\\\\AppData\\\\Local\\\\Temp', 'LOCALAPPDATA': 'C:\\\\Users\\\\Sourav\\\\AppData\\\\Local', 'PROCESSOR_ARCHITECTURE': 'x86', 'PAGER': 'cat', 'PROGRAMFILES(X86)': 'C:\\\\Program Files (x86)', 'PROCESSOR_LEVEL': '6', 'VS140COMNTOOLS': 'C:\\\\Program Files (x86)\\\\Microsoft Visual Studio 14.0\\\\Common7\\\\Tools\\\\', 'SESSIONNAME': 'Console', 'PATH': 'C:\\\\ProgramData\\\\Oracle\\\\Java\\\\javapath;C:\\\\WINDOWS\\\\system32;C:\\\\WINDOWS;C:\\\\WINDOWS\\\\System32\\\\Wbem;C:\\\\WINDOWS\\\\System32\\\\WindowsPowerShell\\\\v1.0\\\\;C:\\\\Program Files\\\\nodejs\\\\;C:\\\\Program Files\\\\MongoDB\\\\Server\\\\3.2\\\\bin;C:\\\\Python27;C:\\\\Python27\\\\Scripts;C:\\\\Python35;C:\\\\Python35\\\\Scripts;C:\\\\Program Files (x86)\\\\Heroku\\\\bin;C:\\\\Program Files (x86)\\\\git\\\\cmd;C:\\\\Program Files\\\\MATLAB\\\\R2013a\\\\runtime\\\\win64;C:\\\\Program Files\\\\MATLAB\\\\R2013a\\\\bin;C:\\\\Program Files\\\\Git\\\\cmd;C:\\\\Program Files (x86)\\\\Windows Kits\\\\10\\\\Windows Performance Toolkit\\\\;C:\\\\Users\\\\Sourav\\\\AppData\\\\Local\\\\Programs\\\\Common\\\\Microsoft\\\\Visual C++ for Python\\\\9.0;C:\\\\Program Files (x86)\\\\MiKTeX 2.9\\\\miktex\\\\bin\\\\;C:\\\\Program Files (x86)\\\\Skype\\\\Phone\\\\;C:\\\\ProgramData\\\\Anaconda3;C:\\\\ProgramData\\\\Anaconda3\\\\Scripts;C:\\\\ProgramData\\\\Anaconda3\\\\Library\\\\bin;C:\\\\Go\\\\bin;C:\\\\RailsInstaller\\\\Git\\\\cmd;C:\\\\RailsInstaller\\\\Ruby2.1.0\\\\bin;C:\\\\Users\\\\Sourav\\\\AppData\\\\Roaming\\\\npm;C:\\\\Program Files (x86)\\\\Microsoft VS Code\\\\bin;C:\\\\phantomjs-2.1.1-windows\\\\bin;C:\\\\Users\\\\Sourav\\\\AppData\\\\Local\\\\Microsoft\\\\WindowsApps;', 'COMPUTERNAME': 'SRGRACE', 'GOROOT': 'C:\\\\Go\\\\', 'ALLUSERSPROFILE': 'C:\\\\ProgramData', 'COMMONPROGRAMFILES': 'C:\\\\Program Files (x86)\\\\Common Files', 'COMMONPROGRAMFILES(X86)': 'C:\\\\Program Files (x86)\\\\Common Files', 'HEROKUPATH': 'C:\\\\Program Files (x86)\\\\Heroku', 'PSMODULEPATH': 'C:\\\\Program Files\\\\WindowsPowerShell\\\\Modules;C:\\\\WINDOWS\\\\system32\\\\WindowsPowerShell\\\\v1.0\\\\Modules', 'PROGRAMFILES': 'C:\\\\Program Files (x86)', 'USERDOMAIN': 'SRGRACE', 'FPS_BROWSER_APP_PROFILE_STRING': 'Internet Explorer', 'LOGONSERVER': '\\\\\\\\SRGRACE', 'USERNAME': 'Sourav', 'PROCESSOR_ARCHITEW6432': 'AMD64', 'COMMONPROGRAMW6432': 'C:\\\\Program Files\\\\Common Files', 'PROCESSOR_IDENTIFIER': 'Intel64 Family 6 Model 60 Stepping 3, GenuineIntel', 'PROGRAMDATA': 'C:\\\\ProgramData', 'FPS_BROWSER_USER_PROFILE_STRING': 'Default', 'SYSTEMROOT': 'C:\\\\WINDOWS', 'TMP': 'C:\\\\Users\\\\Sourav\\\\AppData\\\\Local\\\\Temp', 'USERPROFILE': 'C:\\\\Users\\\\Sourav', 'OS': 'Windows_NT', 'HOMEDRIVE': 'C:', 'IPY_INTERRUPT_EVENT': '1824', 'TERM': 'xterm-color', 'MPLBACKEND': 'module://ipykernel.pylab.backend_inline', 'PATHEXT': '.COM;.EXE;.BAT;.CMD;.VBS;.VBE;.JS;.JSE;.WSF;.WSH;.MSC', 'APPDATA': 'C:\\\\Users\\\\Sourav\\\\AppData\\\\Roaming', 'WINDIR': 'C:\\\\WINDOWS', 'SYSTEMDRIVE': 'C:', 'PUBLIC': 'C:\\\\Users\\\\Public', 'JPY_INTERRUPT_EVENT': '1824', 'COMSPEC': 'C:\\\\WINDOWS\\\\system32\\\\cmd.exe', 'GIT_PAGER': 'cat', 'PROGRAMW6432': 'C:\\\\Program Files'}))"
      ]
     },
     "execution_count": 45,
     "metadata": {},
     "output_type": "execute_result"
    }
   ],
   "source": [
    "os.environ.keys()"
   ]
  },
  {
   "cell_type": "code",
   "execution_count": 48,
   "metadata": {
    "collapsed": false
   },
   "outputs": [
    {
     "data": {
      "text/plain": [
       "'C:\\\\Users\\\\Sourav\\\\OneDrive'"
      ]
     },
     "execution_count": 48,
     "metadata": {},
     "output_type": "execute_result"
    }
   ],
   "source": [
    "os.environ['ONEDRIVE']"
   ]
  },
  {
   "cell_type": "markdown",
   "metadata": {},
   "source": [
    "## shutil: high-level file operations\n",
    "The shutil provides useful file operations:\n",
    "\n",
    "* shutil.rmtree: Recursively delete a directory tree.\n",
    "* shutil.move: Recursively move a file or directory to another * location.\n",
    "* shutil.copy: Copy files or directories."
   ]
  },
  {
   "cell_type": "code",
   "execution_count": null,
   "metadata": {
    "collapsed": true
   },
   "outputs": [],
   "source": []
  }
 ],
 "metadata": {
  "kernelspec": {
   "display_name": "Python 3",
   "language": "python",
   "name": "python3"
  },
  "language_info": {
   "codemirror_mode": {
    "name": "ipython",
    "version": 3
   },
   "file_extension": ".py",
   "mimetype": "text/x-python",
   "name": "python",
   "nbconvert_exporter": "python",
   "pygments_lexer": "ipython3",
   "version": "3.5.1"
  }
 },
 "nbformat": 4,
 "nbformat_minor": 2
}
